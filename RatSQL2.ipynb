{
  "nbformat": 4,
  "nbformat_minor": 0,
  "metadata": {
    "colab": {
      "name": "RatSQL2",
      "provenance": [],
      "collapsed_sections": [],
      "machine_shape": "hm",
      "include_colab_link": true
    },
    "kernelspec": {
      "name": "python3",
      "display_name": "Python 3"
    },
    "accelerator": "GPU"
  },
  "cells": [
    {
      "cell_type": "markdown",
      "metadata": {
        "id": "view-in-github",
        "colab_type": "text"
      },
      "source": [
        "<a href=\"https://colab.research.google.com/github/DashiChen-2021/uos-poster-latex/blob/master/RatSQL2.ipynb\" target=\"_parent\"><img src=\"https://colab.research.google.com/assets/colab-badge.svg\" alt=\"Open In Colab\"/></a>"
      ]
    },
    {
      "cell_type": "code",
      "metadata": {
        "id": "AEkl2EpYTc9L"
      },
      "source": [
        "import os \n",
        "os.chdir(\"/content/rat-sql\")"
      ],
      "execution_count": null,
      "outputs": []
    },
    {
      "cell_type": "code",
      "metadata": {
        "id": "M7UKnZA3kmWo"
      },
      "source": [
        "from google.colab import drive\n",
        "drive.mount('/content/drive')"
      ],
      "execution_count": null,
      "outputs": []
    },
    {
      "cell_type": "code",
      "metadata": {
        "id": "qJfgefHivVgB"
      },
      "source": [
        "!git clone https://github.com/microsoft/rat-sql"
      ],
      "execution_count": null,
      "outputs": []
    },
    {
      "cell_type": "code",
      "metadata": {
        "id": "pIfTU2gtmn1M"
      },
      "source": [
        "%%bash\n",
        "MINICONDA_INSTALLER_SCRIPT=Miniconda3-4.5.12-Linux-x86_64.sh\n",
        "MINICONDA_PREFIX=/usr/local\n",
        "wget https://repo.continuum.io/miniconda/$MINICONDA_INSTALLER_SCRIPT\n",
        "chmod +x $MINICONDA_INSTALLER_SCRIPT\n",
        "./$MINICONDA_INSTALLER_SCRIPT -b -f -p $MINICONDA_PREFIX"
      ],
      "execution_count": null,
      "outputs": []
    },
    {
      "cell_type": "code",
      "metadata": {
        "id": "0WxuoULrN_4U"
      },
      "source": [
        "!python --version\n",
        "!pip install torch==1.6.0+cu101 torchvision==0.7.0+cu101 -f https://download.pytorch.org/whl/torch_stable.html"
      ],
      "execution_count": null,
      "outputs": []
    },
    {
      "cell_type": "code",
      "metadata": {
        "id": "6djwxKNnvgnT"
      },
      "source": [
        "import os\n",
        "os.chdir(\"/content/rat-sql\")\n",
        "!mkdir -p third_party\n",
        "!git clone https://github.com/salesforce/WikiSQL third_party/wikisql\n",
        "!gdown https://drive.google.com/uc?id=109s_s_2FWZ9uGBkNc5gPSo2cIF5WW7IS\n",
        "!mkdir data\n",
        "!tar -xvf spider.tar.gz -C data\n",
        "#!curl https://nlp.stanford.edu/software/stanford-corenlp-full-2018-10-05.zip | jar xv\n",
        "!cp -r /content/rat-sql/third_party/wikisql/lib /content/rat-sql"
      ],
      "execution_count": null,
      "outputs": []
    },
    {
      "cell_type": "markdown",
      "metadata": {
        "id": "IDopp5nfSj8N"
      },
      "source": [
        ""
      ]
    },
    {
      "cell_type": "code",
      "metadata": {
        "id": "VJ38_Dx6SlS3"
      },
      "source": [
        "!cp -r /content/rat-sql/third_party/wikisql/lib /content/rat-sql"
      ],
      "execution_count": null,
      "outputs": []
    },
    {
      "cell_type": "code",
      "metadata": {
        "id": "u6VlJtYPwA9i"
      },
      "source": [
        "#!pip install jsonnet torchtext transformers babel records asdl astor attrs bpemb networkx pyrsistent nltk stanford-corenlp entmax\n",
        "import nltk\n",
        "nltk.download('stopwords')\n",
        "#!export PYTHONPATH=third_party/wikisql/:$PYTHONPATH\n",
        "#!export $CORENLP_HOME=/content/rat-sql/third_party/stanford-corenlp-full-2018-10-05\n",
        "\n",
        "#export PYTHONPATH=/root/rat-sql/third_party/wikisql/:$PYTHONPATH"
      ],
      "execution_count": null,
      "outputs": []
    },
    {
      "cell_type": "code",
      "metadata": {
        "id": "hWmhy1J1m-ja"
      },
      "source": [
        "!pip install jsonnet~=0.14.0 transformers babel records asdl astor attrs bpemb networkx pyrsistent nltk stanford-corenlp~=3.9.2\n",
        "!pip install entmax\n",
        "import nltk\n",
        "nltk.download('stopwords')\n",
        "nltk.download('punkt')\n",
        "!pip install torchtext==0.7"
      ],
      "execution_count": null,
      "outputs": []
    },
    {
      "cell_type": "code",
      "metadata": {
        "id": "Amzbsj6KUUMt"
      },
      "source": [
        "!mkdir logdir\n",
        "!mkdir logdir/bs=3,lr=7.4e-04,bert_lr=3.0e-06,end_lr=0e0,att=1"
      ],
      "execution_count": null,
      "outputs": []
    },
    {
      "cell_type": "code",
      "metadata": {
        "id": "MsdEfOc_njpr"
      },
      "source": [
        ""
      ],
      "execution_count": null,
      "outputs": []
    },
    {
      "cell_type": "code",
      "metadata": {
        "id": "nPXvcaeG7yij"
      },
      "source": [
        ""
      ],
      "execution_count": null,
      "outputs": []
    },
    {
      "cell_type": "code",
      "metadata": {
        "id": "ocfeWD1vfTtp"
      },
      "source": [
        "!python run.py train experiments/spider-bert-run.jsonnet"
      ],
      "execution_count": null,
      "outputs": []
    },
    {
      "cell_type": "code",
      "metadata": {
        "id": "Cy0IU-926NI_"
      },
      "source": [
        "import json\n",
        "res_json = json.load(open(\"/content/rat-sql/logdir/bs=3,lr=7.4e-04,bert_lr=3.0e-06,end_lr=0e0,att=1/ie_dirs/bert_run_true_1-step63100.eval\"))\n",
        "print( res_json['total_scores']['all']['exact'])\n"
      ],
      "execution_count": null,
      "outputs": []
    },
    {
      "cell_type": "code",
      "metadata": {
        "id": "cLVrzy_wwEJu"
      },
      "source": [
        "!python run.py eval experiments/spider-bert-run.jsonnet "
      ],
      "execution_count": null,
      "outputs": []
    },
    {
      "cell_type": "code",
      "metadata": {
        "id": "wtpEVBjTaK0g"
      },
      "source": [
        "import json\n",
        "import os\n",
        "import _jsonnet\n",
        "from ratsql.commands.infer import Inferer\n",
        "from ratsql.datasets.spider import SpiderItem\n",
        "from ratsql.utils import registry\n",
        "\n",
        "exp_config = json.loads(_jsonnet.evaluate_file(\"/content/rat-sql/experiments/spider-bert-run.jsonnet\"))\n",
        "model_config_path = os.path.join(root_dir, exp_config[\"model_config\"])\n",
        "print(model_config_path)\n",
        "model_config_args = exp_config.get(\"model_config_args\")\n",
        "infer_config = json.loads(_jsonnet.evaluate_file(\"/content/rat-sql/experiments/spider-bert-run.jsonnet\", tla_codes={'args': json.dumps(model_config_args)})\n",
        "\n",
        "inferer = Inferer(infer_config)\n",
        "inferer.device = torch.device(\"cuda\")\n",
        "model = inferer.load_model(model_dir, checkpoint_step)\n",
        "dataset = registry.construct('dataset', inferer.config['data']['val'])\n",
        "\n",
        "for _, schema in dataset.schemas.items():\n",
        "    model.preproc.enc_preproc._preprocess_schema(schema)\n",
        "\n",
        "def question(q, db_id):\n",
        "    spider_schema = dataset.schemas[db_id]\n",
        "    data_item = SpiderItem(\n",
        "        text=None,  # intentionally None -- should be ignored when the tokenizer is set correctly\n",
        "        code=None,\n",
        "        schema=spider_schema,\n",
        "        orig_schema=spider_schema.orig,\n",
        "        orig={\"question\": q}\n",
        "    )\n",
        "    model.preproc.clear_items()\n",
        "    enc_input = model.preproc.enc_preproc.preprocess_item(data_item, None)\n",
        "    preproc_data = enc_input, None\n",
        "    with torch.no_grad():\n",
        "        return inferer._infer_one(model, data_item, preproc_data, beam_size=1, use_heuristic=True)\n"
      ],
      "execution_count": null,
      "outputs": []
    }
  ]
}